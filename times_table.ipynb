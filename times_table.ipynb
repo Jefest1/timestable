{
 "cells": [
  {
   "cell_type": "code",
   "execution_count": 1,
   "metadata": {},
   "outputs": [
    {
     "name": "stdout",
     "output_type": "stream",
     "text": [
      "Welcome to numbers time table\n"
     ]
    },
    {
     "name": "stdin",
     "output_type": "stream",
     "text": [
      "Enter the number:  5\n",
      "Enter the number of Multiples:  25\n"
     ]
    },
    {
     "name": "stdout",
     "output_type": "stream",
     "text": [
      "1  x  5  =  5\n",
      "2  x  5  =  10\n",
      "3  x  5  =  15\n",
      "4  x  5  =  20\n",
      "5  x  5  =  25\n",
      "6  x  5  =  30\n",
      "7  x  5  =  35\n",
      "8  x  5  =  40\n",
      "9  x  5  =  45\n",
      "10  x  5  =  50\n",
      "11  x  5  =  55\n",
      "12  x  5  =  60\n",
      "13  x  5  =  65\n",
      "14  x  5  =  70\n",
      "15  x  5  =  75\n",
      "16  x  5  =  80\n",
      "17  x  5  =  85\n",
      "18  x  5  =  90\n",
      "19  x  5  =  95\n",
      "20  x  5  =  100\n",
      "21  x  5  =  105\n",
      "22  x  5  =  110\n",
      "23  x  5  =  115\n",
      "24  x  5  =  120\n"
     ]
    }
   ],
   "source": [
    "print(\"Welcome to numbers time table\")\n",
    "userInput = int(input(\"Enter the number: \"))\n",
    "multiples = int(input(\"Enter the number of Multiples: \"))\n",
    "\n",
    "for i in range(1, multiples):\n",
    "    print(i, \" x \",userInput, \" = \",i*userInput)"
   ]
  },
  {
   "cell_type": "code",
   "execution_count": null,
   "metadata": {},
   "outputs": [],
   "source": []
  }
 ],
 "metadata": {
  "kernelspec": {
   "display_name": "Python 3",
   "language": "python",
   "name": "python3"
  },
  "language_info": {
   "codemirror_mode": {
    "name": "ipython",
    "version": 3
   },
   "file_extension": ".py",
   "mimetype": "text/x-python",
   "name": "python",
   "nbconvert_exporter": "python",
   "pygments_lexer": "ipython3",
   "version": "3.8.3"
  }
 },
 "nbformat": 4,
 "nbformat_minor": 4
}
